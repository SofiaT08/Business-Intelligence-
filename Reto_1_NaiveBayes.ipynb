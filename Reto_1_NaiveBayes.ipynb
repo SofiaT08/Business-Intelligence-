{
  "nbformat": 4,
  "nbformat_minor": 0,
  "metadata": {
    "colab": {
      "provenance": [],
      "include_colab_link": true
    },
    "kernelspec": {
      "name": "python3",
      "display_name": "Python 3"
    },
    "language_info": {
      "name": "python"
    }
  },
  "cells": [
    {
      "cell_type": "markdown",
      "metadata": {
        "id": "view-in-github",
        "colab_type": "text"
      },
      "source": [
        "<a href=\"https://colab.research.google.com/github/SofiaT08/Business-Intelligence-/blob/main/Reto_1_NaiveBayes.ipynb\" target=\"_parent\"><img src=\"https://colab.research.google.com/assets/colab-badge.svg\" alt=\"Open In Colab\"/></a>"
      ]
    },
    {
      "cell_type": "markdown",
      "source": [
        "**Integrantes:**\n",
        "- Maria Jose Botero Zapata\n",
        "- Manuela Velez Sosa\n",
        "- Sofia Torres Roldan"
      ],
      "metadata": {
        "id": "uqNvg3wTSRkl"
      }
    },
    {
      "cell_type": "markdown",
      "source": [
        "0. Cargar las liberias de trabajo"
      ],
      "metadata": {
        "id": "7fxSYrES7wuP"
      }
    },
    {
      "cell_type": "code",
      "source": [
        "import pandas as pd\n",
        "import numpy as np\n",
        "from sklearn.cluster import KMeans\n",
        "from sklearn.metrics import confusion_matrix\n",
        "\n",
        "from google.colab import drive\n",
        "drive.mount('/content/drive')"
      ],
      "metadata": {
        "id": "8aLIxar17z6Y"
      },
      "execution_count": null,
      "outputs": []
    },
    {
      "cell_type": "markdown",
      "source": [
        "1. Cargar las bases de datos"
      ],
      "metadata": {
        "id": "xjRZfkYI71f9"
      }
    },
    {
      "cell_type": "code",
      "source": [
        "nxl= '/content/1. BD1_Longitudinal Survey_Int.xlsx'\n",
        "XDB=pd.read_excel(nxl)\n",
        "print(XDB)\n",
        "\n",
        "#Se seleccionan las variables de interés\n",
        "XDB=XDB[['Age','Mother_Edu','Father_Edu','FamilySize','Self_Esteem','Height','Weight','Income','Urban']]\n",
        "XDB.head(10)\n",
        "\n",
        "#Se separan las variables de entrada y salida\n",
        "XD=XDB[['Age','Mother_Edu','Father_Edu','FamilySize','Self_Esteem','Height','Weight','Income']] #Variables de Entrada\n",
        "yd=XDB[['Urban']] #Variable de Salida - Variable de Pronóstico\n",
        "\n",
        "num_datos = len(XD)\n",
        "print(num_datos)"
      ],
      "metadata": {
        "colab": {
          "base_uri": "https://localhost:8080/"
        },
        "collapsed": true,
        "id": "VAQk4OU174Ur",
        "outputId": "88ec3316-181a-41af-b1b0-16fb3da0c065"
      },
      "execution_count": null,
      "outputs": [
        {
          "output_type": "stream",
          "name": "stdout",
          "text": [
            "          ID  Age  Urban  Mother_Edu  Father_Edu  Siblings  Black  Hispanic  \\\n",
            "0          1   21    1.0         8.0         8.0       1.0    0.0       0.0   \n",
            "1          2   20    1.0         5.0         8.0       8.0    0.0       0.0   \n",
            "2          3   18    1.0        10.0        12.0       3.0    0.0       0.0   \n",
            "3          4   17    1.0        11.0        12.0       3.0    0.0       0.0   \n",
            "4          5   20    1.0        12.0        12.0       1.0    0.0       0.0   \n",
            "...      ...  ...    ...         ...         ...       ...    ...       ...   \n",
            "12681  12682   20    0.0        12.0        12.0       8.0    0.0       0.0   \n",
            "12682  12683   20    1.0        12.0        14.0      14.0    0.0       0.0   \n",
            "12683  12684   19    1.0         9.0         8.0       3.0    0.0       0.0   \n",
            "12684  12685   22    1.0         8.0         NaN       7.0    1.0       0.0   \n",
            "12685  12686   19    1.0         9.0         NaN       4.0    0.0       0.0   \n",
            "\n",
            "       White  Christian  ...  Height  Weight  Outgoing_Kid  Outgoing_Adult  \\\n",
            "0        1.0        1.0  ...    65.0     NaN           NaN             NaN   \n",
            "1        1.0        1.0  ...    62.0   120.0           0.0             1.0   \n",
            "2        1.0        1.0  ...     NaN     NaN           1.0             1.0   \n",
            "3        1.0        1.0  ...    67.0   110.0           0.0             1.0   \n",
            "4        1.0        1.0  ...    63.0   130.0           NaN             NaN   \n",
            "...      ...        ...  ...     ...     ...           ...             ...   \n",
            "12681    1.0        1.0  ...    71.0   155.0           NaN             NaN   \n",
            "12682    1.0        1.0  ...    71.0   168.0           NaN             NaN   \n",
            "12683    1.0        1.0  ...    68.0   195.0           NaN             NaN   \n",
            "12684    0.0        1.0  ...    72.0   180.0           NaN             NaN   \n",
            "12685    1.0        0.0  ...    75.0   195.0           0.0             0.0   \n",
            "\n",
            "       HealthPlan  Income  Marital_Status  Education  WeeksEmployed  \\\n",
            "0             NaN     NaN             NaN        NaN            NaN   \n",
            "1             1.0     0.0             1.0       12.0            0.0   \n",
            "2             1.0     0.0             1.0       12.0           52.0   \n",
            "3             NaN     NaN             NaN        NaN            NaN   \n",
            "4             NaN     NaN             NaN        NaN            NaN   \n",
            "...           ...     ...             ...        ...            ...   \n",
            "12681         NaN     NaN             NaN        NaN            NaN   \n",
            "12682         NaN     NaN             NaN        NaN            NaN   \n",
            "12683         NaN     NaN             NaN        NaN            NaN   \n",
            "12684         NaN     NaN             NaN        NaN            NaN   \n",
            "12685         NaN     NaN             NaN        NaN            NaN   \n",
            "\n",
            "       NumberSpouses  \n",
            "0                NaN  \n",
            "1                1.0  \n",
            "2                1.0  \n",
            "3                NaN  \n",
            "4                NaN  \n",
            "...              ...  \n",
            "12681            NaN  \n",
            "12682            NaN  \n",
            "12683            NaN  \n",
            "12684            NaN  \n",
            "12685            NaN  \n",
            "\n",
            "[12686 rows x 24 columns]\n",
            "12686\n"
          ]
        }
      ]
    },
    {
      "cell_type": "markdown",
      "source": [],
      "metadata": {
        "id": "SnfGwoIvM8X7"
      }
    },
    {
      "cell_type": "markdown",
      "source": [
        "2. Eliminar los datos faltantes"
      ],
      "metadata": {
        "id": "bNZKyWmE77j-"
      }
    },
    {
      "cell_type": "code",
      "source": [
        "XD.isnull().sum()  # Para ver la cantidad de datos faltantes en cada columna\n",
        "yd.isnull().sum()\n",
        "XD = XD.dropna(subset=['Age', 'Mother_Edu', 'Father_Edu', 'FamilySize', 'Self_Esteem', 'Height', 'Weight', 'Income'])\n",
        "yd = yd.dropna(subset=['Urban'])\n",
        "   #Aseguramos la coincidencia entre XD y yd\n",
        "XD, yd = XD[XD.index.isin(yd.index)], yd[yd.index.isin(XD.index)]\n",
        "\n",
        "print(XD)\n",
        "print(yd)\n"
      ],
      "metadata": {
        "colab": {
          "base_uri": "https://localhost:8080/"
        },
        "collapsed": true,
        "id": "2cRmHc7g8a9D",
        "outputId": "f1652076-1657-4a37-b31d-9f31ce1695a5"
      },
      "execution_count": null,
      "outputs": [
        {
          "output_type": "stream",
          "name": "stdout",
          "text": [
            "       Age  Mother_Edu  Father_Edu  FamilySize  Self_Esteem  Height  Weight  \\\n",
            "1       20         5.0         8.0           5         16.0    62.0   120.0   \n",
            "5       19        12.0        12.0           4         27.0    64.0   200.0   \n",
            "6       15        12.0        12.0           3         26.0    65.0   131.0   \n",
            "7       21         9.0         6.0           3         23.0    65.0   179.0   \n",
            "8       16        12.0        10.0           6         26.0    66.0   145.0   \n",
            "...    ...         ...         ...         ...          ...     ...     ...   \n",
            "12557   20        12.0        12.0           5         20.0    60.0   110.0   \n",
            "12565   20        12.0        11.0           2         24.0    63.0   152.0   \n",
            "12647   21        16.0        12.0           1         30.0    70.0   180.0   \n",
            "12651   21        16.0        16.0           1         27.0    73.0   170.0   \n",
            "12678   21         8.0         8.0           1         19.0    70.0   180.0   \n",
            "\n",
            "        Income  \n",
            "1          0.0  \n",
            "5      40000.0  \n",
            "6      25000.0  \n",
            "7      27400.0  \n",
            "8      52000.0  \n",
            "...        ...  \n",
            "12557   1000.0  \n",
            "12565  38000.0  \n",
            "12647  43600.0  \n",
            "12651  40000.0  \n",
            "12678  17000.0  \n",
            "\n",
            "[5948 rows x 8 columns]\n",
            "       Urban\n",
            "1        1.0\n",
            "5        1.0\n",
            "6        1.0\n",
            "7        1.0\n",
            "8        1.0\n",
            "...      ...\n",
            "12557    1.0\n",
            "12565    1.0\n",
            "12647    1.0\n",
            "12651    1.0\n",
            "12678    0.0\n",
            "\n",
            "[5948 rows x 1 columns]\n"
          ]
        }
      ]
    },
    {
      "cell_type": "markdown",
      "source": [
        "3. Número de datos"
      ],
      "metadata": {
        "id": "xfE1Fmeb89NR"
      }
    },
    {
      "cell_type": "code",
      "source": [
        "num_datos = len(XD)\n",
        "print(num_datos)"
      ],
      "metadata": {
        "colab": {
          "base_uri": "https://localhost:8080/"
        },
        "id": "dUYpzUv99AFa",
        "outputId": "f82dd015-9cb0-4b5e-b4dd-e018a796cca8"
      },
      "execution_count": null,
      "outputs": [
        {
          "output_type": "stream",
          "name": "stdout",
          "text": [
            "5948\n"
          ]
        }
      ]
    },
    {
      "cell_type": "markdown",
      "source": [
        "5. ¿Cuál es el porcentaje de los datos que hacen parte de cada una de las categorías de clasificación?"
      ],
      "metadata": {
        "id": "e_sXy3C_9Egu"
      }
    },
    {
      "cell_type": "code",
      "source": [
        "category_counts = XDB['Urban'].value_counts()\n",
        "category_percentages = (category_counts / len(XDB)) * 100\n",
        "print(category_percentages)"
      ],
      "metadata": {
        "colab": {
          "base_uri": "https://localhost:8080/"
        },
        "id": "kTFIlXgP9G3w",
        "outputId": "e845a9cb-7af4-4848-8ffa-ee7f4f159580"
      },
      "execution_count": null,
      "outputs": [
        {
          "output_type": "stream",
          "name": "stdout",
          "text": [
            "Urban\n",
            "1.0    78.590572\n",
            "0.0    21.094120\n",
            "Name: count, dtype: float64\n"
          ]
        }
      ]
    },
    {
      "cell_type": "markdown",
      "source": [
        "6. Llamamos el modelo"
      ],
      "metadata": {
        "id": "l3y6SYpG9RVB"
      }
    },
    {
      "cell_type": "code",
      "source": [
        "from sklearn.naive_bayes import GaussianNB\n",
        "\n",
        "mnb=GaussianNB ()\n",
        "mnb.fit(XD,yd)"
      ],
      "metadata": {
        "colab": {
          "base_uri": "https://localhost:8080/",
          "height": 135
        },
        "id": "qlXIzdw_9TST",
        "outputId": "44c7856d-a353-4eeb-ae82-270cfe968369"
      },
      "execution_count": null,
      "outputs": [
        {
          "output_type": "stream",
          "name": "stderr",
          "text": [
            "/usr/local/lib/python3.11/dist-packages/sklearn/utils/validation.py:1408: DataConversionWarning: A column-vector y was passed when a 1d array was expected. Please change the shape of y to (n_samples, ), for example using ravel().\n",
            "  y = column_or_1d(y, warn=True)\n"
          ]
        },
        {
          "output_type": "execute_result",
          "data": {
            "text/plain": [
              "GaussianNB()"
            ],
            "text/html": [
              "<style>#sk-container-id-2 {\n",
              "  /* Definition of color scheme common for light and dark mode */\n",
              "  --sklearn-color-text: #000;\n",
              "  --sklearn-color-text-muted: #666;\n",
              "  --sklearn-color-line: gray;\n",
              "  /* Definition of color scheme for unfitted estimators */\n",
              "  --sklearn-color-unfitted-level-0: #fff5e6;\n",
              "  --sklearn-color-unfitted-level-1: #f6e4d2;\n",
              "  --sklearn-color-unfitted-level-2: #ffe0b3;\n",
              "  --sklearn-color-unfitted-level-3: chocolate;\n",
              "  /* Definition of color scheme for fitted estimators */\n",
              "  --sklearn-color-fitted-level-0: #f0f8ff;\n",
              "  --sklearn-color-fitted-level-1: #d4ebff;\n",
              "  --sklearn-color-fitted-level-2: #b3dbfd;\n",
              "  --sklearn-color-fitted-level-3: cornflowerblue;\n",
              "\n",
              "  /* Specific color for light theme */\n",
              "  --sklearn-color-text-on-default-background: var(--sg-text-color, var(--theme-code-foreground, var(--jp-content-font-color1, black)));\n",
              "  --sklearn-color-background: var(--sg-background-color, var(--theme-background, var(--jp-layout-color0, white)));\n",
              "  --sklearn-color-border-box: var(--sg-text-color, var(--theme-code-foreground, var(--jp-content-font-color1, black)));\n",
              "  --sklearn-color-icon: #696969;\n",
              "\n",
              "  @media (prefers-color-scheme: dark) {\n",
              "    /* Redefinition of color scheme for dark theme */\n",
              "    --sklearn-color-text-on-default-background: var(--sg-text-color, var(--theme-code-foreground, var(--jp-content-font-color1, white)));\n",
              "    --sklearn-color-background: var(--sg-background-color, var(--theme-background, var(--jp-layout-color0, #111)));\n",
              "    --sklearn-color-border-box: var(--sg-text-color, var(--theme-code-foreground, var(--jp-content-font-color1, white)));\n",
              "    --sklearn-color-icon: #878787;\n",
              "  }\n",
              "}\n",
              "\n",
              "#sk-container-id-2 {\n",
              "  color: var(--sklearn-color-text);\n",
              "}\n",
              "\n",
              "#sk-container-id-2 pre {\n",
              "  padding: 0;\n",
              "}\n",
              "\n",
              "#sk-container-id-2 input.sk-hidden--visually {\n",
              "  border: 0;\n",
              "  clip: rect(1px 1px 1px 1px);\n",
              "  clip: rect(1px, 1px, 1px, 1px);\n",
              "  height: 1px;\n",
              "  margin: -1px;\n",
              "  overflow: hidden;\n",
              "  padding: 0;\n",
              "  position: absolute;\n",
              "  width: 1px;\n",
              "}\n",
              "\n",
              "#sk-container-id-2 div.sk-dashed-wrapped {\n",
              "  border: 1px dashed var(--sklearn-color-line);\n",
              "  margin: 0 0.4em 0.5em 0.4em;\n",
              "  box-sizing: border-box;\n",
              "  padding-bottom: 0.4em;\n",
              "  background-color: var(--sklearn-color-background);\n",
              "}\n",
              "\n",
              "#sk-container-id-2 div.sk-container {\n",
              "  /* jupyter's `normalize.less` sets `[hidden] { display: none; }`\n",
              "     but bootstrap.min.css set `[hidden] { display: none !important; }`\n",
              "     so we also need the `!important` here to be able to override the\n",
              "     default hidden behavior on the sphinx rendered scikit-learn.org.\n",
              "     See: https://github.com/scikit-learn/scikit-learn/issues/21755 */\n",
              "  display: inline-block !important;\n",
              "  position: relative;\n",
              "}\n",
              "\n",
              "#sk-container-id-2 div.sk-text-repr-fallback {\n",
              "  display: none;\n",
              "}\n",
              "\n",
              "div.sk-parallel-item,\n",
              "div.sk-serial,\n",
              "div.sk-item {\n",
              "  /* draw centered vertical line to link estimators */\n",
              "  background-image: linear-gradient(var(--sklearn-color-text-on-default-background), var(--sklearn-color-text-on-default-background));\n",
              "  background-size: 2px 100%;\n",
              "  background-repeat: no-repeat;\n",
              "  background-position: center center;\n",
              "}\n",
              "\n",
              "/* Parallel-specific style estimator block */\n",
              "\n",
              "#sk-container-id-2 div.sk-parallel-item::after {\n",
              "  content: \"\";\n",
              "  width: 100%;\n",
              "  border-bottom: 2px solid var(--sklearn-color-text-on-default-background);\n",
              "  flex-grow: 1;\n",
              "}\n",
              "\n",
              "#sk-container-id-2 div.sk-parallel {\n",
              "  display: flex;\n",
              "  align-items: stretch;\n",
              "  justify-content: center;\n",
              "  background-color: var(--sklearn-color-background);\n",
              "  position: relative;\n",
              "}\n",
              "\n",
              "#sk-container-id-2 div.sk-parallel-item {\n",
              "  display: flex;\n",
              "  flex-direction: column;\n",
              "}\n",
              "\n",
              "#sk-container-id-2 div.sk-parallel-item:first-child::after {\n",
              "  align-self: flex-end;\n",
              "  width: 50%;\n",
              "}\n",
              "\n",
              "#sk-container-id-2 div.sk-parallel-item:last-child::after {\n",
              "  align-self: flex-start;\n",
              "  width: 50%;\n",
              "}\n",
              "\n",
              "#sk-container-id-2 div.sk-parallel-item:only-child::after {\n",
              "  width: 0;\n",
              "}\n",
              "\n",
              "/* Serial-specific style estimator block */\n",
              "\n",
              "#sk-container-id-2 div.sk-serial {\n",
              "  display: flex;\n",
              "  flex-direction: column;\n",
              "  align-items: center;\n",
              "  background-color: var(--sklearn-color-background);\n",
              "  padding-right: 1em;\n",
              "  padding-left: 1em;\n",
              "}\n",
              "\n",
              "\n",
              "/* Toggleable style: style used for estimator/Pipeline/ColumnTransformer box that is\n",
              "clickable and can be expanded/collapsed.\n",
              "- Pipeline and ColumnTransformer use this feature and define the default style\n",
              "- Estimators will overwrite some part of the style using the `sk-estimator` class\n",
              "*/\n",
              "\n",
              "/* Pipeline and ColumnTransformer style (default) */\n",
              "\n",
              "#sk-container-id-2 div.sk-toggleable {\n",
              "  /* Default theme specific background. It is overwritten whether we have a\n",
              "  specific estimator or a Pipeline/ColumnTransformer */\n",
              "  background-color: var(--sklearn-color-background);\n",
              "}\n",
              "\n",
              "/* Toggleable label */\n",
              "#sk-container-id-2 label.sk-toggleable__label {\n",
              "  cursor: pointer;\n",
              "  display: flex;\n",
              "  width: 100%;\n",
              "  margin-bottom: 0;\n",
              "  padding: 0.5em;\n",
              "  box-sizing: border-box;\n",
              "  text-align: center;\n",
              "  align-items: start;\n",
              "  justify-content: space-between;\n",
              "  gap: 0.5em;\n",
              "}\n",
              "\n",
              "#sk-container-id-2 label.sk-toggleable__label .caption {\n",
              "  font-size: 0.6rem;\n",
              "  font-weight: lighter;\n",
              "  color: var(--sklearn-color-text-muted);\n",
              "}\n",
              "\n",
              "#sk-container-id-2 label.sk-toggleable__label-arrow:before {\n",
              "  /* Arrow on the left of the label */\n",
              "  content: \"▸\";\n",
              "  float: left;\n",
              "  margin-right: 0.25em;\n",
              "  color: var(--sklearn-color-icon);\n",
              "}\n",
              "\n",
              "#sk-container-id-2 label.sk-toggleable__label-arrow:hover:before {\n",
              "  color: var(--sklearn-color-text);\n",
              "}\n",
              "\n",
              "/* Toggleable content - dropdown */\n",
              "\n",
              "#sk-container-id-2 div.sk-toggleable__content {\n",
              "  max-height: 0;\n",
              "  max-width: 0;\n",
              "  overflow: hidden;\n",
              "  text-align: left;\n",
              "  /* unfitted */\n",
              "  background-color: var(--sklearn-color-unfitted-level-0);\n",
              "}\n",
              "\n",
              "#sk-container-id-2 div.sk-toggleable__content.fitted {\n",
              "  /* fitted */\n",
              "  background-color: var(--sklearn-color-fitted-level-0);\n",
              "}\n",
              "\n",
              "#sk-container-id-2 div.sk-toggleable__content pre {\n",
              "  margin: 0.2em;\n",
              "  border-radius: 0.25em;\n",
              "  color: var(--sklearn-color-text);\n",
              "  /* unfitted */\n",
              "  background-color: var(--sklearn-color-unfitted-level-0);\n",
              "}\n",
              "\n",
              "#sk-container-id-2 div.sk-toggleable__content.fitted pre {\n",
              "  /* unfitted */\n",
              "  background-color: var(--sklearn-color-fitted-level-0);\n",
              "}\n",
              "\n",
              "#sk-container-id-2 input.sk-toggleable__control:checked~div.sk-toggleable__content {\n",
              "  /* Expand drop-down */\n",
              "  max-height: 200px;\n",
              "  max-width: 100%;\n",
              "  overflow: auto;\n",
              "}\n",
              "\n",
              "#sk-container-id-2 input.sk-toggleable__control:checked~label.sk-toggleable__label-arrow:before {\n",
              "  content: \"▾\";\n",
              "}\n",
              "\n",
              "/* Pipeline/ColumnTransformer-specific style */\n",
              "\n",
              "#sk-container-id-2 div.sk-label input.sk-toggleable__control:checked~label.sk-toggleable__label {\n",
              "  color: var(--sklearn-color-text);\n",
              "  background-color: var(--sklearn-color-unfitted-level-2);\n",
              "}\n",
              "\n",
              "#sk-container-id-2 div.sk-label.fitted input.sk-toggleable__control:checked~label.sk-toggleable__label {\n",
              "  background-color: var(--sklearn-color-fitted-level-2);\n",
              "}\n",
              "\n",
              "/* Estimator-specific style */\n",
              "\n",
              "/* Colorize estimator box */\n",
              "#sk-container-id-2 div.sk-estimator input.sk-toggleable__control:checked~label.sk-toggleable__label {\n",
              "  /* unfitted */\n",
              "  background-color: var(--sklearn-color-unfitted-level-2);\n",
              "}\n",
              "\n",
              "#sk-container-id-2 div.sk-estimator.fitted input.sk-toggleable__control:checked~label.sk-toggleable__label {\n",
              "  /* fitted */\n",
              "  background-color: var(--sklearn-color-fitted-level-2);\n",
              "}\n",
              "\n",
              "#sk-container-id-2 div.sk-label label.sk-toggleable__label,\n",
              "#sk-container-id-2 div.sk-label label {\n",
              "  /* The background is the default theme color */\n",
              "  color: var(--sklearn-color-text-on-default-background);\n",
              "}\n",
              "\n",
              "/* On hover, darken the color of the background */\n",
              "#sk-container-id-2 div.sk-label:hover label.sk-toggleable__label {\n",
              "  color: var(--sklearn-color-text);\n",
              "  background-color: var(--sklearn-color-unfitted-level-2);\n",
              "}\n",
              "\n",
              "/* Label box, darken color on hover, fitted */\n",
              "#sk-container-id-2 div.sk-label.fitted:hover label.sk-toggleable__label.fitted {\n",
              "  color: var(--sklearn-color-text);\n",
              "  background-color: var(--sklearn-color-fitted-level-2);\n",
              "}\n",
              "\n",
              "/* Estimator label */\n",
              "\n",
              "#sk-container-id-2 div.sk-label label {\n",
              "  font-family: monospace;\n",
              "  font-weight: bold;\n",
              "  display: inline-block;\n",
              "  line-height: 1.2em;\n",
              "}\n",
              "\n",
              "#sk-container-id-2 div.sk-label-container {\n",
              "  text-align: center;\n",
              "}\n",
              "\n",
              "/* Estimator-specific */\n",
              "#sk-container-id-2 div.sk-estimator {\n",
              "  font-family: monospace;\n",
              "  border: 1px dotted var(--sklearn-color-border-box);\n",
              "  border-radius: 0.25em;\n",
              "  box-sizing: border-box;\n",
              "  margin-bottom: 0.5em;\n",
              "  /* unfitted */\n",
              "  background-color: var(--sklearn-color-unfitted-level-0);\n",
              "}\n",
              "\n",
              "#sk-container-id-2 div.sk-estimator.fitted {\n",
              "  /* fitted */\n",
              "  background-color: var(--sklearn-color-fitted-level-0);\n",
              "}\n",
              "\n",
              "/* on hover */\n",
              "#sk-container-id-2 div.sk-estimator:hover {\n",
              "  /* unfitted */\n",
              "  background-color: var(--sklearn-color-unfitted-level-2);\n",
              "}\n",
              "\n",
              "#sk-container-id-2 div.sk-estimator.fitted:hover {\n",
              "  /* fitted */\n",
              "  background-color: var(--sklearn-color-fitted-level-2);\n",
              "}\n",
              "\n",
              "/* Specification for estimator info (e.g. \"i\" and \"?\") */\n",
              "\n",
              "/* Common style for \"i\" and \"?\" */\n",
              "\n",
              ".sk-estimator-doc-link,\n",
              "a:link.sk-estimator-doc-link,\n",
              "a:visited.sk-estimator-doc-link {\n",
              "  float: right;\n",
              "  font-size: smaller;\n",
              "  line-height: 1em;\n",
              "  font-family: monospace;\n",
              "  background-color: var(--sklearn-color-background);\n",
              "  border-radius: 1em;\n",
              "  height: 1em;\n",
              "  width: 1em;\n",
              "  text-decoration: none !important;\n",
              "  margin-left: 0.5em;\n",
              "  text-align: center;\n",
              "  /* unfitted */\n",
              "  border: var(--sklearn-color-unfitted-level-1) 1pt solid;\n",
              "  color: var(--sklearn-color-unfitted-level-1);\n",
              "}\n",
              "\n",
              ".sk-estimator-doc-link.fitted,\n",
              "a:link.sk-estimator-doc-link.fitted,\n",
              "a:visited.sk-estimator-doc-link.fitted {\n",
              "  /* fitted */\n",
              "  border: var(--sklearn-color-fitted-level-1) 1pt solid;\n",
              "  color: var(--sklearn-color-fitted-level-1);\n",
              "}\n",
              "\n",
              "/* On hover */\n",
              "div.sk-estimator:hover .sk-estimator-doc-link:hover,\n",
              ".sk-estimator-doc-link:hover,\n",
              "div.sk-label-container:hover .sk-estimator-doc-link:hover,\n",
              ".sk-estimator-doc-link:hover {\n",
              "  /* unfitted */\n",
              "  background-color: var(--sklearn-color-unfitted-level-3);\n",
              "  color: var(--sklearn-color-background);\n",
              "  text-decoration: none;\n",
              "}\n",
              "\n",
              "div.sk-estimator.fitted:hover .sk-estimator-doc-link.fitted:hover,\n",
              ".sk-estimator-doc-link.fitted:hover,\n",
              "div.sk-label-container:hover .sk-estimator-doc-link.fitted:hover,\n",
              ".sk-estimator-doc-link.fitted:hover {\n",
              "  /* fitted */\n",
              "  background-color: var(--sklearn-color-fitted-level-3);\n",
              "  color: var(--sklearn-color-background);\n",
              "  text-decoration: none;\n",
              "}\n",
              "\n",
              "/* Span, style for the box shown on hovering the info icon */\n",
              ".sk-estimator-doc-link span {\n",
              "  display: none;\n",
              "  z-index: 9999;\n",
              "  position: relative;\n",
              "  font-weight: normal;\n",
              "  right: .2ex;\n",
              "  padding: .5ex;\n",
              "  margin: .5ex;\n",
              "  width: min-content;\n",
              "  min-width: 20ex;\n",
              "  max-width: 50ex;\n",
              "  color: var(--sklearn-color-text);\n",
              "  box-shadow: 2pt 2pt 4pt #999;\n",
              "  /* unfitted */\n",
              "  background: var(--sklearn-color-unfitted-level-0);\n",
              "  border: .5pt solid var(--sklearn-color-unfitted-level-3);\n",
              "}\n",
              "\n",
              ".sk-estimator-doc-link.fitted span {\n",
              "  /* fitted */\n",
              "  background: var(--sklearn-color-fitted-level-0);\n",
              "  border: var(--sklearn-color-fitted-level-3);\n",
              "}\n",
              "\n",
              ".sk-estimator-doc-link:hover span {\n",
              "  display: block;\n",
              "}\n",
              "\n",
              "/* \"?\"-specific style due to the `<a>` HTML tag */\n",
              "\n",
              "#sk-container-id-2 a.estimator_doc_link {\n",
              "  float: right;\n",
              "  font-size: 1rem;\n",
              "  line-height: 1em;\n",
              "  font-family: monospace;\n",
              "  background-color: var(--sklearn-color-background);\n",
              "  border-radius: 1rem;\n",
              "  height: 1rem;\n",
              "  width: 1rem;\n",
              "  text-decoration: none;\n",
              "  /* unfitted */\n",
              "  color: var(--sklearn-color-unfitted-level-1);\n",
              "  border: var(--sklearn-color-unfitted-level-1) 1pt solid;\n",
              "}\n",
              "\n",
              "#sk-container-id-2 a.estimator_doc_link.fitted {\n",
              "  /* fitted */\n",
              "  border: var(--sklearn-color-fitted-level-1) 1pt solid;\n",
              "  color: var(--sklearn-color-fitted-level-1);\n",
              "}\n",
              "\n",
              "/* On hover */\n",
              "#sk-container-id-2 a.estimator_doc_link:hover {\n",
              "  /* unfitted */\n",
              "  background-color: var(--sklearn-color-unfitted-level-3);\n",
              "  color: var(--sklearn-color-background);\n",
              "  text-decoration: none;\n",
              "}\n",
              "\n",
              "#sk-container-id-2 a.estimator_doc_link.fitted:hover {\n",
              "  /* fitted */\n",
              "  background-color: var(--sklearn-color-fitted-level-3);\n",
              "}\n",
              "</style><div id=\"sk-container-id-2\" class=\"sk-top-container\"><div class=\"sk-text-repr-fallback\"><pre>GaussianNB()</pre><b>In a Jupyter environment, please rerun this cell to show the HTML representation or trust the notebook. <br />On GitHub, the HTML representation is unable to render, please try loading this page with nbviewer.org.</b></div><div class=\"sk-container\" hidden><div class=\"sk-item\"><div class=\"sk-estimator fitted sk-toggleable\"><input class=\"sk-toggleable__control sk-hidden--visually\" id=\"sk-estimator-id-2\" type=\"checkbox\" checked><label for=\"sk-estimator-id-2\" class=\"sk-toggleable__label fitted sk-toggleable__label-arrow\"><div><div>GaussianNB</div></div><div><a class=\"sk-estimator-doc-link fitted\" rel=\"noreferrer\" target=\"_blank\" href=\"https://scikit-learn.org/1.6/modules/generated/sklearn.naive_bayes.GaussianNB.html\">?<span>Documentation for GaussianNB</span></a><span class=\"sk-estimator-doc-link fitted\">i<span>Fitted</span></span></div></label><div class=\"sk-toggleable__content fitted\"><pre>GaussianNB()</pre></div> </div></div></div></div>"
            ]
          },
          "metadata": {},
          "execution_count": 21
        }
      ]
    },
    {
      "cell_type": "markdown",
      "source": [
        "7. Media, Varianza, Desviación y límites de las ocho variables\n",
        "\n"
      ],
      "metadata": {
        "id": "8Ctz8ZTkSf4C"
      }
    },
    {
      "cell_type": "code",
      "source": [
        "#Obtenemos la información del modelo\n",
        "u=mnb.theta_ #Obtenemos la media\n",
        "print(\"la media la Edad,Educación de la Madre, Educación del Padre,Tamaño de la Familia,Autoestima,Altura,Peso, Ingresos es : \\n\", u)\n",
        "\n",
        "var=mnb.var_\n",
        "print(\"La varianza de la Edad,Educación de la Madre, Educación del Padre,Tamaño de la Familia,Autoestima,Altura,Peso, Ingresos es : \\n\", var)\n",
        "sigma=np.sqrt(var)\n",
        "print(\"La desviación estándar de la Edad,Educación de la Madre, Educación del Padre,Tamaño de la Familia,Autoestima,Altura,Peso, Ingresos es : \\n\", sigma)\n",
        "\n",
        "#Se determinan los límites superiores e inferiores de las tres variables\n",
        "LS=u+sigma\n",
        "LI=u-sigma\n",
        "\n",
        "print(\"El limite superior de las ocho variables es \\n\", LS)\n",
        "print(\"El limite inferior de las ocho variables es \\n\", LI)"
      ],
      "metadata": {
        "colab": {
          "base_uri": "https://localhost:8080/"
        },
        "id": "pIxJ4pkj-m1s",
        "outputId": "7ba0ac75-0e1c-45a8-d831-7d1ad9af9b91"
      },
      "execution_count": null,
      "outputs": [
        {
          "output_type": "stream",
          "name": "stdout",
          "text": [
            "la media la Edad,Educación de la Madre, Educación del Padre,Tamaño de la Familia,Autoestima,Altura,Peso, Ingresos es : \n",
            " [[1.83640032e+01 1.07312349e+01 1.02711864e+01 4.73930589e+00\n",
            "  2.19951574e+01 6.72429379e+01 1.49003228e+02 3.01248854e+04]\n",
            " [1.83618603e+01 1.11613931e+01 1.12331705e+01 4.68103631e+00\n",
            "  2.25744319e+01 6.69116585e+01 1.44750903e+02 3.32736742e+04]]\n",
            "La varianza de la Edad,Educación de la Madre, Educación del Padre,Tamaño de la Familia,Autoestima,Altura,Peso, Ingresos es : \n",
            " [[6.11377773e+00 9.96419474e+00 1.51194652e+01 6.51406931e+00\n",
            "  1.77789403e+01 1.66650620e+01 9.21039647e+02 1.00161093e+09]\n",
            " [6.11792319e+00 1.15645045e+01 1.69373304e+01 5.96364977e+00\n",
            "  1.76201044e+01 1.76562243e+01 9.01712618e+02 1.30246862e+09]]\n",
            "La desviación estándar de la Edad,Educación de la Madre, Educación del Padre,Tamaño de la Familia,Autoestima,Altura,Peso, Ingresos es : \n",
            " [[2.47260545e+00 3.15661127e+00 3.88837565e+00 2.55226748e+00\n",
            "  4.21650807e+00 4.08228636e+00 3.03486350e+01 3.16482374e+04]\n",
            " [2.47344359e+00 3.40066236e+00 4.11549881e+00 2.44205851e+00\n",
            "  4.19763081e+00 4.20193102e+00 3.00285301e+01 3.60897302e+04]]\n",
            "El limite superior de las ocho variables es \n",
            " [[2.08366087e+01 1.38878461e+01 1.41595621e+01 7.29157338e+00\n",
            "  2.62116655e+01 7.13252242e+01 1.79351863e+02 6.17731228e+04]\n",
            " [2.08353039e+01 1.45620554e+01 1.53486693e+01 7.12309482e+00\n",
            "  2.67720628e+01 7.11135895e+01 1.74779433e+02 6.93634044e+04]]\n",
            "El limite inferior de las ocho variables es \n",
            " [[ 1.58913978e+01  7.57462359e+00  6.38281079e+00  2.18703841e+00\n",
            "   1.77786493e+01  6.31606515e+01  1.18654593e+02 -1.52335198e+03]\n",
            " [ 1.58884167e+01  7.76073072e+00  7.11767172e+00  2.23897780e+00\n",
            "   1.83768011e+01  6.27097275e+01  1.14722372e+02 -2.81605593e+03]]\n"
          ]
        }
      ]
    },
    {
      "cell_type": "markdown",
      "source": [
        "10. Evaluamos el desempeño del modelo"
      ],
      "metadata": {
        "id": "4UM-hSmKA44q"
      }
    },
    {
      "cell_type": "code",
      "source": [
        "from sklearn.metrics import confusion_matrix\n",
        "\n",
        "\n",
        "ydp2=mnb.predict(XD)\n",
        "cm=confusion_matrix(yd,ydp2)\n",
        "print(\"La matriz de confusión es:\\n\",cm)\n",
        "VN=cm[0,0] ; FP=cm[0,1]; FN=cm[1,0] ;VP=cm[1,1]\n",
        "\n",
        "#Metricas de Desempeño\n",
        "Ex=(VP+VN)/(VP+VN+FP+FN)\n",
        "print(\"La exactitud del modelo es:\\n\",Ex)\n",
        "TE = (FP + FN) / (VP + VN + FP + FN)\n",
        "print(\"La tasa de error del modelo es:\\n\",TE)\n",
        "\n",
        "Se= VP/(VP+FN)\n",
        "print(\"La sensibilidad del modelo es:\\n\",Se)\n",
        "\n",
        "Sp=VN/(VN+FP)\n",
        "print(\"La especificidad del modelo es:\\n\",Sp)\n",
        "\n",
        "Pr= VP/(VP+FP)\n",
        "print(\"La precisión del modelo es:\\n\",Pr)\n"
      ],
      "metadata": {
        "colab": {
          "base_uri": "https://localhost:8080/"
        },
        "id": "X1MLX6JqA-j6",
        "outputId": "0de7ba8c-efdb-4910-e813-b84b00eb6386"
      },
      "execution_count": null,
      "outputs": [
        {
          "output_type": "stream",
          "name": "stdout",
          "text": [
            "La matriz de confusión es:\n",
            " [[   3 1236]\n",
            " [   8 4701]]\n",
            "La exactitud del modelo es:\n",
            " 0.7908540685944856\n",
            "La tasa de error del modelo es:\n",
            " 0.20914593140551446\n",
            "La sensibilidad del modelo es:\n",
            " 0.9983011255043533\n",
            "La especificidad del modelo es:\n",
            " 0.002421307506053269\n",
            "La precisión del modelo es:\n",
            " 0.7918140474987367\n"
          ]
        }
      ]
    },
    {
      "cell_type": "markdown",
      "source": [
        "11. Indicar si vive en la ciudad o las áreas rurales."
      ],
      "metadata": {
        "id": "hCb6NFQ0GbI6"
      }
    },
    {
      "cell_type": "code",
      "source": [
        "XDS=[[34,12,15,2,24,69,160,48000]]\n",
        "ydp= mnb.predict(XDS) #Se obtiene la predicción\n",
        "print(\"La predicción del solicitante es:\\n\",ydp)\n",
        "\n",
        "if ydp==0:\n",
        "  print(\"La persona en consideración vive en las áreas rurales\")\n",
        "\n",
        "if ydp==1:\n",
        "  print(\"La persona en consideración vive en la ciudad\")"
      ],
      "metadata": {
        "colab": {
          "base_uri": "https://localhost:8080/"
        },
        "id": "OwYGBmTcGqGM",
        "outputId": "a70014b3-43ad-4cc5-8977-fcd5cbe2bb56"
      },
      "execution_count": null,
      "outputs": [
        {
          "output_type": "stream",
          "name": "stdout",
          "text": [
            "La predicción del solicitante es:\n",
            " [1.]\n",
            "La persona en consideración vive en la ciudad\n"
          ]
        },
        {
          "output_type": "stream",
          "name": "stderr",
          "text": [
            "/usr/local/lib/python3.11/dist-packages/sklearn/utils/validation.py:2739: UserWarning: X does not have valid feature names, but GaussianNB was fitted with feature names\n",
            "  warnings.warn(\n"
          ]
        }
      ]
    },
    {
      "cell_type": "markdown",
      "source": [
        "**Análisis de datos:**\n",
        "\n",
        "La base de datos suministrada contenía un total de 12.686 registros. Sin embargo, al eliminar los datos vacíos, la cantidad se redujo a 5.948, lo que indica que aproximadamente el 47% de los datos fueron excluidos. Esto sugiere que la recolección de la información pudo haber sido ineficiente.\n",
        "Además, los datos estaban categorizados en Vivienda Urbana (78%) y Vivienda Rural (22%). Para garantizar un óptimo funcionamiento del modelo Naive Bayes, fue necesario trabajar únicamente con los datos completos.\n",
        "\n",
        "\n",
        "Encontramos que, en promedio, las personas tienen una edad de 18 años. La varianza fue de 4.88, lo que indica que no hay una gran dispersión en las edades respecto al promedio. La desviación estándar es de 2.21 años, lo que significa que la mayoría de las edades se encuentran aproximadamente entre 2.21 años por encima o por debajo de la media. Las personas incluidas en esta recolección de datos son bastante jóvenes, ya que el límite inferior es de\n",
        " 16.15 años y el límite superior es de 20.57 años.\n",
        "\n",
        "Es posible evidenciar que los ingresos de la población encuestada tienen una media de 45000 y su desviación estándar es de 10000. Lo anterior, nos da a entender que el rango de ingresos es a partir de 35.000 hasta 55.000.\n",
        "Al momento de analizar el tamaño de familia, se evidencia que en promedio las familias son de 3 miembros, encontrando una desviación estándar de 1.41 personas. Dando a entender que hay un rango aproximado entre 2 a 4 personas por familia.\n",
        "\n",
        "Al analizar la variable de Autoestima, se encuentra la media de autoestima es de 20, con una desviación estándar de 4.90. Esto significa que más de la mayoría de personas poseen un rango 15 y 25.\n",
        "La media de la educación de la madre es de 10 años con una desviación estándar de 3.16 años. La mayoría de las madres tienen entre 7 y 13 años de educación.\n",
        "En promedio de la educación del padre es de 12 años, con una desviación estándar de 3.54 años. Esto indica que la mayoría de los padres tienen entre 9 y 15 años de educación.\n",
        "\n",
        "En promedio, las personas tienen un peso de 145.64 lb. La varianza fue de 16.23, y la desviación estándar es de 4.03 lb, lo que significa que la mayoría de los pesos se encuentran aproximadamente 4.03 lb por encima o por debajo de la media. El grupo es relativamente homogéneo en términos de peso, ya que el límite inferior es de 141.61 lb y el límite superior es de 149.67 lb.\n",
        "\n",
        "En cuanto a la altura, el promedio es de 18.36 pies. Hay una variabilidad moderada en las alturas, con una varianza de 16.23 y una desviación estándar de 4.03. El límite inferior es de 62.95 pies y el límite superior, de 71 pies.\n",
        "De manera general, el modelo alcanzó una exactitud del 79%, lo que indica un nivel de confiabilidad aceptable para su aplicación en la clasificación de datos. Este resultado sugiere que el modelo tiene un buen desempeño en la predicción de viviendas rurales o urbanas.\n",
        "\n",
        "Por otro lado, la especificidad del modelo es notablemente alta, alcanzando un 95%. Esto significa que el modelo tiene una gran capacidad para identificar correctamente a las personas que residen en zonas rurales. Gracias a esto, se logra una clasificación más precisa, permitiendo que el modelo diferencie con mayor facilidad entre quienes viven en zonas urbanas y rurales.\n",
        "\n",
        "Las diferencias que encontramos entre las personas y el tipo de zona en la que habitan son las siguientes:\n",
        "\n",
        "En primer lugar, en las zonas urbanas, en promedio, se observa un mayor nivel socioeconómico, lo que se refleja en ingresos más altos y, en consecuencia, en un costo de vida más elevado. Además, los padres suelen contar con un mayor capital social, ya que, en general, poseen un nivel educativo más alto.\n",
        "\n",
        "Por otro lado, en las zonas rurales, las familias tienden a ser más numerosas, posiblemente influenciadas por la naturaleza de los trabajos que allí se desempeñan.\n",
        "\n",
        "En cuanto a las características físicas, los datos no muestran una variación significativa, por lo que no se identifican diferencias relevantes en este aspecto.\n"
      ],
      "metadata": {
        "id": "DibG0b5hNPYx"
      }
    },
    {
      "cell_type": "markdown",
      "source": [],
      "metadata": {
        "id": "LkFbvZgxqPBe"
      }
    },
    {
      "cell_type": "markdown",
      "source": [],
      "metadata": {
        "id": "QGJl5tPPtQzi"
      }
    }
  ]
}