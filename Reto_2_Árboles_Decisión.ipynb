{
  "nbformat": 4,
  "nbformat_minor": 0,
  "metadata": {
    "colab": {
      "provenance": [],
      "include_colab_link": true
    },
    "kernelspec": {
      "name": "python3",
      "display_name": "Python 3"
    },
    "language_info": {
      "name": "python"
    }
  },
  "cells": [
    {
      "cell_type": "markdown",
      "metadata": {
        "id": "view-in-github",
        "colab_type": "text"
      },
      "source": [
        "<a href=\"https://colab.research.google.com/github/SofiaT08/Business-Intelligence-/blob/main/Reto_2_%C3%81rboles_Decisi%C3%B3n.ipynb\" target=\"_parent\"><img src=\"https://colab.research.google.com/assets/colab-badge.svg\" alt=\"Open In Colab\"/></a>"
      ]
    },
    {
      "cell_type": "markdown",
      "source": [
        "**Integrantes**\n",
        "\n",
        "* Maria Jose Botero Zapata\n",
        "* Manuela Velez Sosa\n",
        "* Sofia Torres Roldan"
      ],
      "metadata": {
        "id": "OpXGfVriEKKi"
      }
    },
    {
      "cell_type": "markdown",
      "source": [
        "0. Se procede con la carga de las librerias de trabajo"
      ],
      "metadata": {
        "id": "G6GbqbZk_prG"
      }
    },
    {
      "cell_type": "code",
      "execution_count": null,
      "metadata": {
        "colab": {
          "base_uri": "https://localhost:8080/"
        },
        "id": "wS6sbs2w_kUL",
        "outputId": "fc6c7eaa-4cb6-4c22-dc6b-d3e475b25534"
      },
      "outputs": [
        {
          "output_type": "stream",
          "name": "stdout",
          "text": [
            "Mounted at /content/drive\n"
          ]
        }
      ],
      "source": [
        "#Librerias cientificas\n",
        "import pandas as pd\n",
        "import numpy as np\n",
        "\n",
        "#Librerias Árbol\n",
        "from sklearn.tree import DecisionTreeClassifier\n",
        "from sklearn.metrics import confusion_matrix\n",
        "\n",
        "#Conectar al drive\n",
        "from google.colab import drive\n",
        "drive.mount('/content/drive')"
      ]
    },
    {
      "cell_type": "markdown",
      "source": [
        "1. Se procede con la carga de los datos"
      ],
      "metadata": {
        "id": "tozTu9m3AOxY"
      }
    },
    {
      "cell_type": "code",
      "source": [
        "nxl='/content/drive/MyDrive/AnalíticaNegocios /2. CollegeAdmisions_Int_M.xlsx'\n",
        "XDB=df=pd.read_excel(nxl,sheet_name=0) #Base Collegue Admissions\n",
        "XDB=XDB.dropna()\n",
        "XDB.head()"
      ],
      "metadata": {
        "colab": {
          "base_uri": "https://localhost:8080/",
          "height": 293
        },
        "id": "ZkPsSts2AOO9",
        "outputId": "81cc7432-f4c0-4567-cec4-a9c425da7fb7"
      },
      "execution_count": null,
      "outputs": [
        {
          "output_type": "execute_result",
          "data": {
            "text/plain": [
              "    Applicant  Edu_Parent1  Edu_Parent2 Gender  White  Asian  HSGPA  SAT/ACT  \\\n",
              "6           7            6            6      F      1      0   4.26     1430   \n",
              "28         29            7            6      M      1      0   3.95     1340   \n",
              "46         47            3            6      M      1      0   4.33     1200   \n",
              "61         62            7            7      F      1      0   4.27     1530   \n",
              "65         66            6            7      F      0      0   4.04     1270   \n",
              "\n",
              "                 College Admitted Enrolled  College_GPA  \n",
              "6         Math & Science      Yes      Yes        3.956  \n",
              "28        Math & Science      Yes      Yes        3.361  \n",
              "46  Business & Economics       No      Yes        3.433  \n",
              "61  Business & Economics       No      Yes        3.890  \n",
              "65        Math & Science      Yes      Yes        3.025  "
            ],
            "text/html": [
              "\n",
              "  <div id=\"df-78e0b86d-ffca-4169-be8c-bec0ea1f08fe\" class=\"colab-df-container\">\n",
              "    <div>\n",
              "<style scoped>\n",
              "    .dataframe tbody tr th:only-of-type {\n",
              "        vertical-align: middle;\n",
              "    }\n",
              "\n",
              "    .dataframe tbody tr th {\n",
              "        vertical-align: top;\n",
              "    }\n",
              "\n",
              "    .dataframe thead th {\n",
              "        text-align: right;\n",
              "    }\n",
              "</style>\n",
              "<table border=\"1\" class=\"dataframe\">\n",
              "  <thead>\n",
              "    <tr style=\"text-align: right;\">\n",
              "      <th></th>\n",
              "      <th>Applicant</th>\n",
              "      <th>Edu_Parent1</th>\n",
              "      <th>Edu_Parent2</th>\n",
              "      <th>Gender</th>\n",
              "      <th>White</th>\n",
              "      <th>Asian</th>\n",
              "      <th>HSGPA</th>\n",
              "      <th>SAT/ACT</th>\n",
              "      <th>College</th>\n",
              "      <th>Admitted</th>\n",
              "      <th>Enrolled</th>\n",
              "      <th>College_GPA</th>\n",
              "    </tr>\n",
              "  </thead>\n",
              "  <tbody>\n",
              "    <tr>\n",
              "      <th>6</th>\n",
              "      <td>7</td>\n",
              "      <td>6</td>\n",
              "      <td>6</td>\n",
              "      <td>F</td>\n",
              "      <td>1</td>\n",
              "      <td>0</td>\n",
              "      <td>4.26</td>\n",
              "      <td>1430</td>\n",
              "      <td>Math &amp; Science</td>\n",
              "      <td>Yes</td>\n",
              "      <td>Yes</td>\n",
              "      <td>3.956</td>\n",
              "    </tr>\n",
              "    <tr>\n",
              "      <th>28</th>\n",
              "      <td>29</td>\n",
              "      <td>7</td>\n",
              "      <td>6</td>\n",
              "      <td>M</td>\n",
              "      <td>1</td>\n",
              "      <td>0</td>\n",
              "      <td>3.95</td>\n",
              "      <td>1340</td>\n",
              "      <td>Math &amp; Science</td>\n",
              "      <td>Yes</td>\n",
              "      <td>Yes</td>\n",
              "      <td>3.361</td>\n",
              "    </tr>\n",
              "    <tr>\n",
              "      <th>46</th>\n",
              "      <td>47</td>\n",
              "      <td>3</td>\n",
              "      <td>6</td>\n",
              "      <td>M</td>\n",
              "      <td>1</td>\n",
              "      <td>0</td>\n",
              "      <td>4.33</td>\n",
              "      <td>1200</td>\n",
              "      <td>Business &amp; Economics</td>\n",
              "      <td>No</td>\n",
              "      <td>Yes</td>\n",
              "      <td>3.433</td>\n",
              "    </tr>\n",
              "    <tr>\n",
              "      <th>61</th>\n",
              "      <td>62</td>\n",
              "      <td>7</td>\n",
              "      <td>7</td>\n",
              "      <td>F</td>\n",
              "      <td>1</td>\n",
              "      <td>0</td>\n",
              "      <td>4.27</td>\n",
              "      <td>1530</td>\n",
              "      <td>Business &amp; Economics</td>\n",
              "      <td>No</td>\n",
              "      <td>Yes</td>\n",
              "      <td>3.890</td>\n",
              "    </tr>\n",
              "    <tr>\n",
              "      <th>65</th>\n",
              "      <td>66</td>\n",
              "      <td>6</td>\n",
              "      <td>7</td>\n",
              "      <td>F</td>\n",
              "      <td>0</td>\n",
              "      <td>0</td>\n",
              "      <td>4.04</td>\n",
              "      <td>1270</td>\n",
              "      <td>Math &amp; Science</td>\n",
              "      <td>Yes</td>\n",
              "      <td>Yes</td>\n",
              "      <td>3.025</td>\n",
              "    </tr>\n",
              "  </tbody>\n",
              "</table>\n",
              "</div>\n",
              "    <div class=\"colab-df-buttons\">\n",
              "\n",
              "  <div class=\"colab-df-container\">\n",
              "    <button class=\"colab-df-convert\" onclick=\"convertToInteractive('df-78e0b86d-ffca-4169-be8c-bec0ea1f08fe')\"\n",
              "            title=\"Convert this dataframe to an interactive table.\"\n",
              "            style=\"display:none;\">\n",
              "\n",
              "  <svg xmlns=\"http://www.w3.org/2000/svg\" height=\"24px\" viewBox=\"0 -960 960 960\">\n",
              "    <path d=\"M120-120v-720h720v720H120Zm60-500h600v-160H180v160Zm220 220h160v-160H400v160Zm0 220h160v-160H400v160ZM180-400h160v-160H180v160Zm440 0h160v-160H620v160ZM180-180h160v-160H180v160Zm440 0h160v-160H620v160Z\"/>\n",
              "  </svg>\n",
              "    </button>\n",
              "\n",
              "  <style>\n",
              "    .colab-df-container {\n",
              "      display:flex;\n",
              "      gap: 12px;\n",
              "    }\n",
              "\n",
              "    .colab-df-convert {\n",
              "      background-color: #E8F0FE;\n",
              "      border: none;\n",
              "      border-radius: 50%;\n",
              "      cursor: pointer;\n",
              "      display: none;\n",
              "      fill: #1967D2;\n",
              "      height: 32px;\n",
              "      padding: 0 0 0 0;\n",
              "      width: 32px;\n",
              "    }\n",
              "\n",
              "    .colab-df-convert:hover {\n",
              "      background-color: #E2EBFA;\n",
              "      box-shadow: 0px 1px 2px rgba(60, 64, 67, 0.3), 0px 1px 3px 1px rgba(60, 64, 67, 0.15);\n",
              "      fill: #174EA6;\n",
              "    }\n",
              "\n",
              "    .colab-df-buttons div {\n",
              "      margin-bottom: 4px;\n",
              "    }\n",
              "\n",
              "    [theme=dark] .colab-df-convert {\n",
              "      background-color: #3B4455;\n",
              "      fill: #D2E3FC;\n",
              "    }\n",
              "\n",
              "    [theme=dark] .colab-df-convert:hover {\n",
              "      background-color: #434B5C;\n",
              "      box-shadow: 0px 1px 3px 1px rgba(0, 0, 0, 0.15);\n",
              "      filter: drop-shadow(0px 1px 2px rgba(0, 0, 0, 0.3));\n",
              "      fill: #FFFFFF;\n",
              "    }\n",
              "  </style>\n",
              "\n",
              "    <script>\n",
              "      const buttonEl =\n",
              "        document.querySelector('#df-78e0b86d-ffca-4169-be8c-bec0ea1f08fe button.colab-df-convert');\n",
              "      buttonEl.style.display =\n",
              "        google.colab.kernel.accessAllowed ? 'block' : 'none';\n",
              "\n",
              "      async function convertToInteractive(key) {\n",
              "        const element = document.querySelector('#df-78e0b86d-ffca-4169-be8c-bec0ea1f08fe');\n",
              "        const dataTable =\n",
              "          await google.colab.kernel.invokeFunction('convertToInteractive',\n",
              "                                                    [key], {});\n",
              "        if (!dataTable) return;\n",
              "\n",
              "        const docLinkHtml = 'Like what you see? Visit the ' +\n",
              "          '<a target=\"_blank\" href=https://colab.research.google.com/notebooks/data_table.ipynb>data table notebook</a>'\n",
              "          + ' to learn more about interactive tables.';\n",
              "        element.innerHTML = '';\n",
              "        dataTable['output_type'] = 'display_data';\n",
              "        await google.colab.output.renderOutput(dataTable, element);\n",
              "        const docLink = document.createElement('div');\n",
              "        docLink.innerHTML = docLinkHtml;\n",
              "        element.appendChild(docLink);\n",
              "      }\n",
              "    </script>\n",
              "  </div>\n",
              "\n",
              "\n",
              "<div id=\"df-a18f3139-429c-4f2c-8552-7166f279f5ae\">\n",
              "  <button class=\"colab-df-quickchart\" onclick=\"quickchart('df-a18f3139-429c-4f2c-8552-7166f279f5ae')\"\n",
              "            title=\"Suggest charts\"\n",
              "            style=\"display:none;\">\n",
              "\n",
              "<svg xmlns=\"http://www.w3.org/2000/svg\" height=\"24px\"viewBox=\"0 0 24 24\"\n",
              "     width=\"24px\">\n",
              "    <g>\n",
              "        <path d=\"M19 3H5c-1.1 0-2 .9-2 2v14c0 1.1.9 2 2 2h14c1.1 0 2-.9 2-2V5c0-1.1-.9-2-2-2zM9 17H7v-7h2v7zm4 0h-2V7h2v10zm4 0h-2v-4h2v4z\"/>\n",
              "    </g>\n",
              "</svg>\n",
              "  </button>\n",
              "\n",
              "<style>\n",
              "  .colab-df-quickchart {\n",
              "      --bg-color: #E8F0FE;\n",
              "      --fill-color: #1967D2;\n",
              "      --hover-bg-color: #E2EBFA;\n",
              "      --hover-fill-color: #174EA6;\n",
              "      --disabled-fill-color: #AAA;\n",
              "      --disabled-bg-color: #DDD;\n",
              "  }\n",
              "\n",
              "  [theme=dark] .colab-df-quickchart {\n",
              "      --bg-color: #3B4455;\n",
              "      --fill-color: #D2E3FC;\n",
              "      --hover-bg-color: #434B5C;\n",
              "      --hover-fill-color: #FFFFFF;\n",
              "      --disabled-bg-color: #3B4455;\n",
              "      --disabled-fill-color: #666;\n",
              "  }\n",
              "\n",
              "  .colab-df-quickchart {\n",
              "    background-color: var(--bg-color);\n",
              "    border: none;\n",
              "    border-radius: 50%;\n",
              "    cursor: pointer;\n",
              "    display: none;\n",
              "    fill: var(--fill-color);\n",
              "    height: 32px;\n",
              "    padding: 0;\n",
              "    width: 32px;\n",
              "  }\n",
              "\n",
              "  .colab-df-quickchart:hover {\n",
              "    background-color: var(--hover-bg-color);\n",
              "    box-shadow: 0 1px 2px rgba(60, 64, 67, 0.3), 0 1px 3px 1px rgba(60, 64, 67, 0.15);\n",
              "    fill: var(--button-hover-fill-color);\n",
              "  }\n",
              "\n",
              "  .colab-df-quickchart-complete:disabled,\n",
              "  .colab-df-quickchart-complete:disabled:hover {\n",
              "    background-color: var(--disabled-bg-color);\n",
              "    fill: var(--disabled-fill-color);\n",
              "    box-shadow: none;\n",
              "  }\n",
              "\n",
              "  .colab-df-spinner {\n",
              "    border: 2px solid var(--fill-color);\n",
              "    border-color: transparent;\n",
              "    border-bottom-color: var(--fill-color);\n",
              "    animation:\n",
              "      spin 1s steps(1) infinite;\n",
              "  }\n",
              "\n",
              "  @keyframes spin {\n",
              "    0% {\n",
              "      border-color: transparent;\n",
              "      border-bottom-color: var(--fill-color);\n",
              "      border-left-color: var(--fill-color);\n",
              "    }\n",
              "    20% {\n",
              "      border-color: transparent;\n",
              "      border-left-color: var(--fill-color);\n",
              "      border-top-color: var(--fill-color);\n",
              "    }\n",
              "    30% {\n",
              "      border-color: transparent;\n",
              "      border-left-color: var(--fill-color);\n",
              "      border-top-color: var(--fill-color);\n",
              "      border-right-color: var(--fill-color);\n",
              "    }\n",
              "    40% {\n",
              "      border-color: transparent;\n",
              "      border-right-color: var(--fill-color);\n",
              "      border-top-color: var(--fill-color);\n",
              "    }\n",
              "    60% {\n",
              "      border-color: transparent;\n",
              "      border-right-color: var(--fill-color);\n",
              "    }\n",
              "    80% {\n",
              "      border-color: transparent;\n",
              "      border-right-color: var(--fill-color);\n",
              "      border-bottom-color: var(--fill-color);\n",
              "    }\n",
              "    90% {\n",
              "      border-color: transparent;\n",
              "      border-bottom-color: var(--fill-color);\n",
              "    }\n",
              "  }\n",
              "</style>\n",
              "\n",
              "  <script>\n",
              "    async function quickchart(key) {\n",
              "      const quickchartButtonEl =\n",
              "        document.querySelector('#' + key + ' button');\n",
              "      quickchartButtonEl.disabled = true;  // To prevent multiple clicks.\n",
              "      quickchartButtonEl.classList.add('colab-df-spinner');\n",
              "      try {\n",
              "        const charts = await google.colab.kernel.invokeFunction(\n",
              "            'suggestCharts', [key], {});\n",
              "      } catch (error) {\n",
              "        console.error('Error during call to suggestCharts:', error);\n",
              "      }\n",
              "      quickchartButtonEl.classList.remove('colab-df-spinner');\n",
              "      quickchartButtonEl.classList.add('colab-df-quickchart-complete');\n",
              "    }\n",
              "    (() => {\n",
              "      let quickchartButtonEl =\n",
              "        document.querySelector('#df-a18f3139-429c-4f2c-8552-7166f279f5ae button');\n",
              "      quickchartButtonEl.style.display =\n",
              "        google.colab.kernel.accessAllowed ? 'block' : 'none';\n",
              "    })();\n",
              "  </script>\n",
              "</div>\n",
              "\n",
              "    </div>\n",
              "  </div>\n"
            ],
            "application/vnd.google.colaboratory.intrinsic+json": {
              "type": "dataframe",
              "variable_name": "XDB",
              "summary": "{\n  \"name\": \"XDB\",\n  \"rows\": 1528,\n  \"fields\": [\n    {\n      \"column\": \"Applicant\",\n      \"properties\": {\n        \"dtype\": \"number\",\n        \"std\": 4901,\n        \"min\": 7,\n        \"max\": 17338,\n        \"num_unique_values\": 1528,\n        \"samples\": [\n          3001,\n          442,\n          11002\n        ],\n        \"semantic_type\": \"\",\n        \"description\": \"\"\n      }\n    },\n    {\n      \"column\": \"Edu_Parent1\",\n      \"properties\": {\n        \"dtype\": \"number\",\n        \"std\": 1,\n        \"min\": 1,\n        \"max\": 7,\n        \"num_unique_values\": 7,\n        \"samples\": [\n          6,\n          7,\n          1\n        ],\n        \"semantic_type\": \"\",\n        \"description\": \"\"\n      }\n    },\n    {\n      \"column\": \"Edu_Parent2\",\n      \"properties\": {\n        \"dtype\": \"number\",\n        \"std\": 1,\n        \"min\": 1,\n        \"max\": 7,\n        \"num_unique_values\": 7,\n        \"samples\": [\n          6,\n          7,\n          1\n        ],\n        \"semantic_type\": \"\",\n        \"description\": \"\"\n      }\n    },\n    {\n      \"column\": \"Gender\",\n      \"properties\": {\n        \"dtype\": \"category\",\n        \"num_unique_values\": 2,\n        \"samples\": [\n          \"M\",\n          \"F\"\n        ],\n        \"semantic_type\": \"\",\n        \"description\": \"\"\n      }\n    },\n    {\n      \"column\": \"White\",\n      \"properties\": {\n        \"dtype\": \"number\",\n        \"std\": 0,\n        \"min\": 0,\n        \"max\": 1,\n        \"num_unique_values\": 2,\n        \"samples\": [\n          0,\n          1\n        ],\n        \"semantic_type\": \"\",\n        \"description\": \"\"\n      }\n    },\n    {\n      \"column\": \"Asian\",\n      \"properties\": {\n        \"dtype\": \"number\",\n        \"std\": 0,\n        \"min\": 0,\n        \"max\": 1,\n        \"num_unique_values\": 2,\n        \"samples\": [\n          1,\n          0\n        ],\n        \"semantic_type\": \"\",\n        \"description\": \"\"\n      }\n    },\n    {\n      \"column\": \"HSGPA\",\n      \"properties\": {\n        \"dtype\": \"number\",\n        \"std\": 0.3288797169512249,\n        \"min\": 2.43,\n        \"max\": 4.42,\n        \"num_unique_values\": 148,\n        \"samples\": [\n          3.16,\n          3.78\n        ],\n        \"semantic_type\": \"\",\n        \"description\": \"\"\n      }\n    },\n    {\n      \"column\": \"SAT/ACT\",\n      \"properties\": {\n        \"dtype\": \"number\",\n        \"std\": 126,\n        \"min\": 840,\n        \"max\": 1570,\n        \"num_unique_values\": 73,\n        \"samples\": [\n          1270,\n          880\n        ],\n        \"semantic_type\": \"\",\n        \"description\": \"\"\n      }\n    },\n    {\n      \"column\": \"College\",\n      \"properties\": {\n        \"dtype\": \"category\",\n        \"num_unique_values\": 3,\n        \"samples\": [\n          \"Math & Science\",\n          \"Business & Economics\"\n        ],\n        \"semantic_type\": \"\",\n        \"description\": \"\"\n      }\n    },\n    {\n      \"column\": \"Admitted\",\n      \"properties\": {\n        \"dtype\": \"category\",\n        \"num_unique_values\": 2,\n        \"samples\": [\n          \"No\",\n          \"Yes\"\n        ],\n        \"semantic_type\": \"\",\n        \"description\": \"\"\n      }\n    },\n    {\n      \"column\": \"Enrolled\",\n      \"properties\": {\n        \"dtype\": \"category\",\n        \"num_unique_values\": 1,\n        \"samples\": [\n          \"Yes\"\n        ],\n        \"semantic_type\": \"\",\n        \"description\": \"\"\n      }\n    },\n    {\n      \"column\": \"College_GPA\",\n      \"properties\": {\n        \"dtype\": \"number\",\n        \"std\": 0.5135177801576729,\n        \"min\": 0.364,\n        \"max\": 4.0,\n        \"num_unique_values\": 1015,\n        \"samples\": [\n          3.963\n        ],\n        \"semantic_type\": \"\",\n        \"description\": \"\"\n      }\n    }\n  ]\n}"
            }
          },
          "metadata": {},
          "execution_count": 3
        }
      ]
    },
    {
      "cell_type": "markdown",
      "source": [
        "2. Convertimos los datos de las variables 'Gender' y 'Admitted' a números."
      ],
      "metadata": {
        "id": "WGfec6mqB_pT"
      }
    },
    {
      "cell_type": "code",
      "source": [
        "#Seleccionar las variables\n",
        "XD=XDB[['Edu_Parent1', 'Edu_Parent2', 'Gender', 'White', 'Asian', 'HSGPA', 'SAT/ACT']]\n",
        "yd=XDB[['Admitted']]\n",
        "\n",
        "XD.loc[:,'Gender']=XD['Gender'].replace({'F': 0, 'M': 1})\n"
      ],
      "metadata": {
        "collapsed": true,
        "id": "4jBEV8sgCC-m",
        "colab": {
          "base_uri": "https://localhost:8080/"
        },
        "outputId": "3c46985b-4f7b-4f01-a88b-5ff94f48abde"
      },
      "execution_count": null,
      "outputs": [
        {
          "output_type": "stream",
          "name": "stderr",
          "text": [
            "<ipython-input-4-57fb9301be12>:5: FutureWarning: Downcasting behavior in `replace` is deprecated and will be removed in a future version. To retain the old behavior, explicitly call `result.infer_objects(copy=False)`. To opt-in to the future behavior, set `pd.set_option('future.no_silent_downcasting', True)`\n",
            "  XD.loc[:,'Gender']=XD['Gender'].replace({'F': 0, 'M': 1})\n"
          ]
        }
      ]
    },
    {
      "cell_type": "markdown",
      "source": [
        "**Descripción de las variables**\n",
        "\n",
        "La base de datos de College Admissions posee un total de 17339 datos,de los cuales se utilizan 1528 para entrenar el modelo. Cada uno de los aspirantes esta descrito bajo las siguientes 7 tipos de variables socioeconómicas consideradas variables de predicción:\n",
        "\n",
        "* ⁠Nivel educativo de los padres: Muestra el grado de escolaridad de los padres o\n",
        "tutores de los aspirantes.\n",
        "* ⁠Genero: Forma en que la persona se expresan sobre su identidad género, independiente del sexo asignado al nacer.\n",
        "* ⁠White: Indica si las personas son categorizadas como “blancos” en los contextos sociales.\n",
        "* ⁠Asian: Indica si las personas caracterizadas como “Asiáticos” en los contextos sociales.\n",
        "* ⁠High score Grade Point Average (HSGPA): Promedio de calificaciones obtenidas por el estudiante aspirante en el periodo de la secundaria.\n",
        "* ⁠Scholastic Asessment Test (SAT): Examen estandarizado para medir los presaberes de los estudiantes próximos a ingresar a la universidad.\n",
        "\n",
        "Es relevante resaltar que la variable de salida (respuesta) es \"Admisión\" la cual evidencia si el estudiante es admitido o no a la universidad.\n"
      ],
      "metadata": {
        "id": "-yIpbwTJDTBe"
      }
    },
    {
      "cell_type": "markdown",
      "source": [
        "4. Se procede con la implementación del modelo"
      ],
      "metadata": {
        "id": "2igIwqDyDXp0"
      }
    },
    {
      "cell_type": "code",
      "source": [
        "mar=DecisionTreeClassifier(criterion='gini',max_depth=4)\n",
        "mar.fit(XD,yd)\n",
        "\n",
        "#Se procede con la gráfica\n",
        "from pydotplus import graph_from_dot_data #Me crea la gráfica\n",
        "from sklearn.tree import export_graphviz #Me exporta a PNG,JPEG,TIFF\n",
        "\n",
        "ve=['Edu_Parent1', 'Edu_Parent2', 'Gender', 'White', 'Asian', 'HSGPA', 'SAT/ACT']\n",
        "#Nombres para el Árbol\n",
        "dot_data=export_graphviz(mar,feature_names=ve) #Crear el gráfico\n",
        "graph=graph_from_dot_data(dot_data)\n",
        "graph.write_png('2.Reto2_ÁrbolDecisión.png') #Guardar la gráfica"
      ],
      "metadata": {
        "colab": {
          "base_uri": "https://localhost:8080/"
        },
        "id": "6UDuK_j7DbeZ",
        "outputId": "e417f2b7-ae9a-4bfc-bdf0-aa7a583e656f"
      },
      "execution_count": null,
      "outputs": [
        {
          "output_type": "execute_result",
          "data": {
            "text/plain": [
              "True"
            ]
          },
          "metadata": {},
          "execution_count": 5
        }
      ]
    },
    {
      "cell_type": "markdown",
      "source": [
        "5. Determinar el número de personas admitidas a la Universidad"
      ],
      "metadata": {
        "id": "mddovi2vxBcu"
      }
    },
    {
      "cell_type": "code",
      "source": [
        "Admitted = XDB['Admitted'].value_counts().to_dict()\n",
        "\n",
        "num_yes = Admitted.get('Yes', 0)\n",
        "num_no = Admitted.get('No', 0)\n",
        "\n",
        "print(f\"Número de admitidos (Yes): {num_yes}\")\n",
        "print(f\"Número de no admitidos (No): {num_no}\")"
      ],
      "metadata": {
        "colab": {
          "base_uri": "https://localhost:8080/"
        },
        "id": "al5qp88YxFNc",
        "outputId": "e455cdc9-11b9-4277-c972-0625d79b7fec"
      },
      "execution_count": null,
      "outputs": [
        {
          "output_type": "stream",
          "name": "stdout",
          "text": [
            "Número de admitidos (Yes): 1303\n",
            "Número de no admitidos (No): 225\n"
          ]
        }
      ]
    },
    {
      "cell_type": "markdown",
      "source": [
        "6. Determinar el número de nodos puros para el árbol asociado con la estructura del modelo:"
      ],
      "metadata": {
        "id": "33wBIZbgxhpk"
      }
    },
    {
      "cell_type": "code",
      "source": [
        "import numpy as np\n",
        "from sklearn.tree import DecisionTreeClassifier\n",
        "\n",
        "# Asumiendo que 'mar' es tu modelo de árbol de decisión entrenado\n",
        "\n",
        "# Obtener el número de nodos en el árbol\n",
        "n_nodes = mar.tree_.node_count\n",
        "\n",
        "# Obtener los valores de los nodos (número de muestras por clase)\n",
        "values = mar.tree_.value\n",
        "\n",
        "# Contar los nodos puros\n",
        "pure_node_count = 0\n",
        "for i in range(n_nodes):\n",
        "    # Verificar si el nodo es una hoja (no tiene hijos)\n",
        "    if mar.tree_.children_left[i] == mar.tree_.children_right[i]:\n",
        "        # Verificar si el nodo es puro (uno de los valores es 0)\n",
        "        if values[i][0][0] == 0 or values[i][0][1] == 0:\n",
        "            pure_node_count += 1\n",
        "\n",
        "print(\"Número de nodos puros:\", pure_node_count)"
      ],
      "metadata": {
        "colab": {
          "base_uri": "https://localhost:8080/"
        },
        "id": "keq9y7ZRxkzJ",
        "outputId": "9c02c9c8-3002-4aed-c0a6-ee50858691fe"
      },
      "execution_count": null,
      "outputs": [
        {
          "output_type": "stream",
          "name": "stdout",
          "text": [
            "Número de nodos puros: 7\n"
          ]
        }
      ]
    },
    {
      "cell_type": "markdown",
      "source": [
        "9. Evaluar el comportamiento del modelo"
      ],
      "metadata": {
        "id": "rqu_eCwWG4-6"
      }
    },
    {
      "cell_type": "code",
      "source": [
        "ydp=mar.predict(XD) #Pronóstico sobre la base de datos original\n",
        "cm=confusion_matrix(yd,ydp) #Matriz de confusión\n",
        "print(\"La matriz de confusión es:\\n\",cm)\n",
        "\n",
        "VN=cm[0,0];FP=cm[0,1];FN=cm[1,0];VP=cm[1,1]\n",
        "\n",
        "\n",
        "#Métricas de desempeño\n",
        "Ex=(VP+VN)/(VP+VN+FP+FN)\n",
        "print(\"La exactitud del modelo es:\\n\",Ex)\n",
        "TE = (FP + FN) / (VP + VN + FP + FN)\n",
        "print(\"La tasa de error del modelo es:\\n\",TE)\n",
        "\n",
        "Se= VP/(VP+FN)\n",
        "print(\"La sensibilidad del modelo es:\\n\",Se)\n",
        "\n",
        "Sp=VN/(VN+FP)\n",
        "print(\"La especificidad del modelo es:\\n\",Sp)\n",
        "\n",
        "Pr= VP/(VP+FP)\n",
        "print(\"La precisión del modelo es:\\n\",Pr)\n",
        "\n",
        "PredNeg= VN/(VN+FN)\n",
        "print(\"La precisión negativa del modelo es:\\n\",PredNeg)"
      ],
      "metadata": {
        "colab": {
          "base_uri": "https://localhost:8080/"
        },
        "id": "vJiRueB6G5sP",
        "outputId": "06bd1e2a-8754-4a6a-f8f0-7fd3de464127"
      },
      "execution_count": null,
      "outputs": [
        {
          "output_type": "stream",
          "name": "stdout",
          "text": [
            "La matriz de confusión es:\n",
            " [[  20  205]\n",
            " [   2 1301]]\n",
            "La exactitud del modelo es:\n",
            " 0.8645287958115183\n",
            "La tasa de error del modelo es:\n",
            " 0.1354712041884817\n",
            "La sensibilidad del modelo es:\n",
            " 0.9984650805832693\n",
            "La especificidad del modelo es:\n",
            " 0.08888888888888889\n",
            "La precisión del modelo es:\n",
            " 0.8638778220451527\n",
            "La precisión negativa del modelo es:\n",
            " 0.9090909090909091\n"
          ]
        }
      ]
    },
    {
      "cell_type": "markdown",
      "source": [
        "8. Se realiza el pronóstico"
      ],
      "metadata": {
        "id": "KcHcVobn4pvw"
      }
    },
    {
      "cell_type": "code",
      "source": [
        "# Cargar el archivo Excel con dos hojas\n",
        "datos = pd.read_excel ('/content/drive/MyDrive/AnalíticaNegocios /2. CollegeAdmisions_Int_M.xlsx',sheet_name=1)  # Asegúrate de que la ruta sea correcta\n",
        "Pronosticar_datos = datos\n",
        "\n",
        "XD = XDB[['Edu_Parent1', 'Edu_Parent2', 'Gender', 'White', 'Asian', 'HSGPA', 'SAT/ACT']]\n",
        "yd = XDB[['Admitted']]\n",
        "\n",
        "XD.loc[:,'Gender'] = XD['Gender'].map({'F': 0, 'M': 1})\n",
        "\n",
        "\n",
        "X_pronostico = Pronosticar_datos[['Edu_Parent1', 'Edu_Parent2', 'Gender', 'White', 'Asian', 'HSGPA', 'SAT/ACT']]\n",
        "X_pronostico.loc[:,'Gender'] = Pronosticar_datos['Gender'].replace({'F': 0, 'M': 1})\n",
        "\n",
        "predicciones = mar.predict(X_pronostico)\n",
        "Pronosticar_datos['AdmissionPrediction'] = predicciones\n",
        "\n",
        "# Guardar los resultados en un archivo Excel con una nueva columna de predicciones\n",
        "Pronosticar_datos.to_excel('pronosticoestudiantes.xlsx', index=False)\n",
        "\n",
        "print(\"Pronóstico completado y guardado en 'pronosticoestudiantes.xlsx'\")"
      ],
      "metadata": {
        "colab": {
          "base_uri": "https://localhost:8080/"
        },
        "id": "f9kibcRgPG03",
        "outputId": "e189e580-a470-4575-cf58-8969d44cfdf4"
      },
      "execution_count": null,
      "outputs": [
        {
          "output_type": "stream",
          "name": "stdout",
          "text": [
            "Pronóstico completado y guardado en 'pronosticoestudiantes.xlsx'\n"
          ]
        },
        {
          "output_type": "stream",
          "name": "stderr",
          "text": [
            "<ipython-input-9-467cfea7e9e0>:12: FutureWarning: Downcasting behavior in `replace` is deprecated and will be removed in a future version. To retain the old behavior, explicitly call `result.infer_objects(copy=False)`. To opt-in to the future behavior, set `pd.set_option('future.no_silent_downcasting', True)`\n",
            "  X_pronostico.loc[:,'Gender'] = Pronosticar_datos['Gender'].replace({'F': 0, 'M': 1})\n"
          ]
        }
      ]
    },
    {
      "cell_type": "markdown",
      "source": [
        "**Análisis de resultados**\n",
        "\n",
        "El modelo de árbol de decisión realizado para predecir el proceso de admisión a la universidad toma las siete variables socioeconómicas anteriormente mencionadas;sin embargo al evidenciar el diagrama del árbol se encuentra que las variables más relevantes para la toma de decisión son:HSGPA,SAT/ACT y la educación de los padres. Además, es importante mencionar que el modelo se entrenó con 1528 datos.\n",
        "Por otro lado, el modelo ha demostrado un buen desempeño, pues en la matriz de confusión evidenciamos que este mostro solo dos falsos negativos, por lo que el resto de verdaderos positivos (1301) acertaron la predicción.\n",
        "Al analizar las métricas, encontramos que la exactitud (0,864) y la sensibilidad(0,998) superan el 80% en promedio lo que indica que la capacidad de predicción del modelo es bastante veridica, teniendo en cuenta que esta veracidad del modelo es menos precisa para identificar a los estudiantes que no serán admitidos o los verdaderos negativos, ya que la especificidad es ligeramente menor que la sensibilidad."
      ],
      "metadata": {
        "id": "Z7wcytUCYwnh"
      }
    }
  ]
}